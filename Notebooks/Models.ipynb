{
 "cells": [
  {
   "cell_type": "markdown",
   "id": "317f9b60",
   "metadata": {},
   "source": [
    "### Suggested models to try:\n",
    "*   $SARIMA(1,0,1)(0,1,0)_{12}$\n",
    "\n",
    "*   $SARIMA(1,0,0)(0,1,0)_{12}$\n",
    "\n",
    "*   $SARIMA(0,0,1)(0,1,0)_{12}$"
   ]
  }
 ],
 "metadata": {
  "language_info": {
   "name": "python"
  }
 },
 "nbformat": 4,
 "nbformat_minor": 5
}
