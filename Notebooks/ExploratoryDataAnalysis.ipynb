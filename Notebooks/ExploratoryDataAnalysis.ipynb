{
 "cells": [
  {
   "cell_type": "markdown",
   "id": "08659731",
   "metadata": {},
   "source": [
    "# Exploratory Data Analysis 📁"
   ]
  },
  {
   "cell_type": "markdown",
   "id": "748a2612",
   "metadata": {},
   "source": [
    "## Get Data"
   ]
  },
  {
   "cell_type": "code",
   "execution_count": 2,
   "id": "c565a392",
   "metadata": {},
   "outputs": [],
   "source": [
    "import os\n",
    "import pandas as pd \n",
    "import numpy as np\n",
    "import matplotlib.pyplot as plt\n",
    "from dotenv import load_dotenv\n",
    "import requests"
   ]
  },
  {
   "cell_type": "code",
   "execution_count": null,
   "id": "40ab52a4",
   "metadata": {},
   "outputs": [],
   "source": [
    "def get_noaa_data(token, datasetid, stationid, startdate, enddate, datatypeid):\n",
    "    \"\"\" \n",
    "    Uses NOAA's API to retrieve climate data based on given parameters.\n",
    "    Returns JSON data if successful.\n",
    "    \"\"\"\n",
    "    url = \"https://www.ncei.noaa.gov/cdo-web/api/v2/data\"\n",
    "    headers = {\"token\": token}\n",
    "    params = {\n",
    "        \"datasetid\": datasetid,\n",
    "        \"stationid\": stationid,\n",
    "        \"startdate\": startdate,\n",
    "        \"enddate\": enddate,\n",
    "        \"datatypeid\": datatypeid,\n",
    "        \"limit\": 1000,\n",
    "        \"units\": \"metric\"\n",
    "    }\n",
    "\n",
    "    response = requests.get(url, headers=headers, params=params)\n",
    "\n",
    "    if response.status_code == 200:\n",
    "        return response.json()\n",
    "    else:\n",
    "        print(f\"Error: {response.status_code}\")\n",
    "        print(response.text)\n",
    "        return None"
   ]
  },
  {
   "cell_type": "code",
   "execution_count": 19,
   "id": "9efd76f4",
   "metadata": {},
   "outputs": [],
   "source": [
    "# Get token\n",
    "load_dotenv()\n",
    "token = os.getenv(\"NOAA_TOKEN\")\n",
    "\n",
    "data = get_noaa_data(\n",
    "    token=token,\n",
    "    datasetid=\"GSOM\",\n",
    "    stationid=\"GHCND:USW00014989\",\n",
    "    startdate=\"2017-01-01\",\n",
    "    enddate=\"2024-12-31\",\n",
    "    datatypeid=\"TAVG\"\n",
    ")"
   ]
  },
  {
   "cell_type": "markdown",
   "id": "494c8975",
   "metadata": {},
   "source": [
    "## Clean Data"
   ]
  },
  {
   "cell_type": "code",
   "execution_count": null,
   "id": "7b06b31a",
   "metadata": {},
   "outputs": [
    {
     "name": "stdout",
     "output_type": "stream",
     "text": [
      "Requirement already satisfied: pyarrow in /home/roberto/Documentos/EntornosVirtuales/sarima-time-series/lib/python3.13/site-packages (20.0.0)\n",
      "Note: you may need to restart the kernel to use updated packages.\n"
     ]
    }
   ],
   "source": [
    "results = data.get(\"results\", [])\n",
    "df = pd.DataFrame(results)\n",
    "df[\"date\"] = pd.to_datetime(df[\"date\"])\n",
    "df[\"value\"] = df[\"value\"]/10\n",
    "df.to_parquet(\"../Data/raw_data.parquet\")"
   ]
  },
  {
   "cell_type": "code",
   "execution_count": 45,
   "id": "714bdf82",
   "metadata": {},
   "outputs": [],
   "source": [
    "df = df.sort_values(\"date\")"
   ]
  },
  {
   "cell_type": "code",
   "execution_count": 46,
   "id": "f9947c7a",
   "metadata": {},
   "outputs": [],
   "source": [
    "df.set_index(\"date\", inplace=True)"
   ]
  },
  {
   "cell_type": "code",
   "execution_count": 42,
   "id": "746a1c43",
   "metadata": {},
   "outputs": [
    {
     "data": {
      "text/html": [
       "<div>\n",
       "<style scoped>\n",
       "    .dataframe tbody tr th:only-of-type {\n",
       "        vertical-align: middle;\n",
       "    }\n",
       "\n",
       "    .dataframe tbody tr th {\n",
       "        vertical-align: top;\n",
       "    }\n",
       "\n",
       "    .dataframe thead th {\n",
       "        text-align: right;\n",
       "    }\n",
       "</style>\n",
       "<table border=\"1\" class=\"dataframe\">\n",
       "  <thead>\n",
       "    <tr style=\"text-align: right;\">\n",
       "      <th></th>\n",
       "      <th>datatype</th>\n",
       "      <th>station</th>\n",
       "      <th>attributes</th>\n",
       "      <th>value</th>\n",
       "    </tr>\n",
       "    <tr>\n",
       "      <th>date</th>\n",
       "      <th></th>\n",
       "      <th></th>\n",
       "      <th></th>\n",
       "      <th></th>\n",
       "    </tr>\n",
       "  </thead>\n",
       "  <tbody>\n",
       "  </tbody>\n",
       "</table>\n",
       "</div>"
      ],
      "text/plain": [
       "Empty DataFrame\n",
       "Columns: [datatype, station, attributes, value]\n",
       "Index: []"
      ]
     },
     "execution_count": 42,
     "metadata": {},
     "output_type": "execute_result"
    }
   ],
   "source": [
    "df.isnull().sum()\n",
    "df[df.isnull().any(axis=1)]"
   ]
  },
  {
   "cell_type": "code",
   "execution_count": 47,
   "id": "df764235",
   "metadata": {},
   "outputs": [],
   "source": [
    "df = df[\"value\"]"
   ]
  },
  {
   "cell_type": "code",
   "execution_count": 50,
   "id": "07013270",
   "metadata": {},
   "outputs": [
    {
     "data": {
      "text/plain": [
       "date\n",
       "2017-02-01    0.47\n",
       "2017-03-01    0.61\n",
       "2017-04-01    1.06\n",
       "2017-05-01    1.59\n",
       "2017-06-01    2.30\n",
       "              ... \n",
       "2024-08-01    2.14\n",
       "2024-09-01    1.99\n",
       "2024-10-01    1.45\n",
       "2024-11-01    0.53\n",
       "2024-12-01    0.00\n",
       "Name: AverageTemperature, Length: 90, dtype: float64"
      ]
     },
     "execution_count": 50,
     "metadata": {},
     "output_type": "execute_result"
    }
   ],
   "source": [
    "df.rename(\"AverageTemperature\")"
   ]
  },
  {
   "cell_type": "code",
   "execution_count": 52,
   "id": "c68eeea5",
   "metadata": {},
   "outputs": [],
   "source": [
    "df = df.to_frame()\n",
    "df.to_parquet(\"../Data/clean_data.parquet\")\n"
   ]
  },
  {
   "cell_type": "markdown",
   "id": "a5963670",
   "metadata": {},
   "source": [
    "## Exploratory Data"
   ]
  },
  {
   "cell_type": "code",
   "execution_count": 3,
   "id": "a77ce241",
   "metadata": {},
   "outputs": [],
   "source": [
    "serie = pd.read_parquet(\"../Data/clean_data.parquet\")\n",
    "serie = pd.Series(serie[\"value\"], name=\"AverageTemperature\")"
   ]
  },
  {
   "cell_type": "code",
   "execution_count": 4,
   "id": "664f4f83",
   "metadata": {},
   "outputs": [
    {
     "name": "stdout",
     "output_type": "stream",
     "text": [
      "<class 'pandas.core.series.Series'>\n",
      "DatetimeIndex: 90 entries, 2017-02-01 to 2024-12-01\n",
      "Series name: AverageTemperature\n",
      "Non-Null Count  Dtype  \n",
      "--------------  -----  \n",
      "90 non-null     float64\n",
      "dtypes: float64(1)\n",
      "memory usage: 1.4 KB\n"
     ]
    }
   ],
   "source": [
    "serie.info()"
   ]
  },
  {
   "cell_type": "markdown",
   "id": "9acd1ff6",
   "metadata": {},
   "source": [
    "📁 EDA\n",
    "Get Data\n",
    "\n",
    "Clean Data\n",
    "\n",
    "Exploración inicial\n",
    "\n",
    ".head(), .info(), .describe()\n",
    "\n",
    "Gráfica de la serie completa\n",
    "\n",
    "Revisión de nulos y outliers\n",
    "\n",
    "Análisis de Estacionariedad\n",
    "\n",
    "Tendencia y estacionalidad (visual)\n",
    "\n",
    "Test de Dickey-Fuller (ADF)\n",
    "\n",
    "Diferenciación si es necesario\n",
    "\n",
    "Identificación inicial de parámetros\n",
    "\n",
    "ACF y PACF\n",
    "\n",
    "STL decomposition\n",
    "\n",
    "👉 Aquí terminas con una serie transformada (estacionaria) y con sugerencias iniciales de (p,d,q)(P,D,Q)."
   ]
  }
 ],
 "metadata": {
  "kernelspec": {
   "display_name": "sarima-time-series",
   "language": "python",
   "name": "python3"
  },
  "language_info": {
   "codemirror_mode": {
    "name": "ipython",
    "version": 3
   },
   "file_extension": ".py",
   "mimetype": "text/x-python",
   "name": "python",
   "nbconvert_exporter": "python",
   "pygments_lexer": "ipython3",
   "version": "3.13.3"
  }
 },
 "nbformat": 4,
 "nbformat_minor": 5
}
